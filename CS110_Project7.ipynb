{
  "nbformat": 4,
  "nbformat_minor": 0,
  "metadata": {
    "colab": {
      "provenance": []
    },
    "kernelspec": {
      "name": "python3",
      "display_name": "Python 3"
    },
    "language_info": {
      "name": "python"
    }
  },
  "cells": [
    {
      "cell_type": "markdown",
      "source": [
        "# **NOTE:** Use File > Save a copy in Drive to make a copy before doing anything else"
      ],
      "metadata": {
        "id": "4JeSTdT1pkf-"
      }
    },
    {
      "cell_type": "markdown",
      "source": [
        "# Project 7: Data Exploration and Visualization"
      ],
      "metadata": {
        "id": "FsyyPJK3pspP"
      }
    },
    {
      "cell_type": "markdown",
      "source": [
        "### Overview\n",
        "\n",
        "In this project, you will apply data exploration and visualization techniques to a real-world dataset of your choice. You'll practice using pandas for data analysis and create meaningful visualizations to gain insights from your data. This project builds on your Python programming skills while introducing you to the exciting world of data science.\n",
        "\n",
        "In [Lab7](https://colab.research.google.com/drive/15QvSh0csZaCU-OuuPIfpWx5wLDDjmqK4?usp=sharing), you explore the titanic dataset and you should use it as a sample and pick a dataset of your interest to do a similar data exploration and visualization."
      ],
      "metadata": {
        "id": "XaKjQPf0p04F"
      }
    },
    {
      "cell_type": "markdown",
      "source": [
        "### Project Objectives\n",
        "\n",
        "*   Find and select a dataset from a real-world data source\n",
        "*   Formulate a clear inquiry question based on your chosen dataset\n",
        "\n",
        "\n",
        "*   Perform exploratory data analysis using pandas functions\n",
        "*   Create at least two meaningful data visualizations\n",
        "\n",
        "\n",
        "*   Analyze your findings and answer your inquiry question\n",
        "*   Reflect on the insights gained through data exploration\n"
      ],
      "metadata": {
        "id": "rUc-js6Bpl3R"
      }
    },
    {
      "cell_type": "markdown",
      "source": [
        "### Data Sources\n",
        "You can choose from various online data sources such as:\n",
        "\n",
        "* [Kaggle](https://www.kaggle.com/datasets) - Wide variety of datasets\n",
        "* [data.gov](https://www.data.gov/) - U.S. government data\n",
        "* [Our World in Data](https://ourworldindata.org/) - Global development data\n",
        "* [GitHub](https://github.com/datasets) - Curated datasets\n",
        "* [Google Dataset Search](https://datasetsearch.research.google.com/) - Search for datasets\n",
        "* Or any other reliable data source you find interesting"
      ],
      "metadata": {
        "id": "HHdDmt7LsInH"
      }
    },
    {
      "cell_type": "markdown",
      "source": [
        "## Part 1: Dataset Selection and Initial Exploration\n",
        "\n"
      ],
      "metadata": {
        "id": "U0bTaSGqsuD3"
      }
    },
    {
      "cell_type": "markdown",
      "source": [
        "#### TODO Tasks:"
      ],
      "metadata": {
        "id": "b51Zax58tbRj"
      }
    },
    {
      "cell_type": "markdown",
      "source": [
        "1. Select Your Dataset: Choose a dataset that interests you. Make sure it has at least 100 rows and multiple columns with different data types (e.g., numerical, categorical, dates).\n",
        "\n",
        "Please create either text or code cells in between the TODO tasks to do the work."
      ],
      "metadata": {
        "id": "ZBCbqzJjtZXz"
      }
    },
    {
      "cell_type": "markdown",
      "source": [
        "My chosen dataset: https://github.com/curran/data/blob/gh-pages/nyt/gun_sales/all-data.csv"
      ],
      "metadata": {
        "id": "aUo4-kVSobmH"
      }
    },
    {
      "cell_type": "markdown",
      "source": [
        "2. Import Libraries: Import the necessary libraries (pandas, matplotlib, seaborn) at the beginning of your notebook by creating code cells below this text cell."
      ],
      "metadata": {
        "id": "zayF0dhNtg5x"
      }
    },
    {
      "cell_type": "code",
      "source": [
        "# Importing pandas for data manipulation\n",
        "import pandas as pd\n",
        "\n",
        "# Importing matplotlib for data visualization\n",
        "import matplotlib.pyplot as plt\n",
        "\n",
        "# Importing seaborn for advanced data visualization\n",
        "import seaborn as sns\n"
      ],
      "metadata": {
        "id": "zt1Armfdo7-D"
      },
      "execution_count": 1,
      "outputs": []
    },
    {
      "cell_type": "markdown",
      "source": [
        "3. Load Your Data: Load your chosen dataset using pandas and save it to a pandas dataframe. Please create a code cell below this text cell to do it."
      ],
      "metadata": {
        "id": "jVfaTxqXt3VS"
      }
    },
    {
      "cell_type": "code",
      "source": [
        "gun_df = pd.read_csv(\"https://raw.githubusercontent.com/curran/data/gh-pages/nyt/gun_sales/all-data.csv\") #loading dataset and saving to pandas dataframe\n"
      ],
      "metadata": {
        "collapsed": true,
        "id": "ZxRPA7yft6Ur"
      },
      "execution_count": 2,
      "outputs": []
    },
    {
      "cell_type": "markdown",
      "source": [
        "4. Data Summary: Use the following functions to do inital exploration your dataset:\n",
        "\n",
        "* info() - Display information about the dataset structure\n",
        "* describe() - Show statistical summary of numerical columns\n",
        "* head() - Display the first 5 rows (df.head())\n",
        "* shape - Show the dimensions of the dataset (e.g. df.shape)\n",
        "* columns - Get the column names (e.g. df.columns)\n",
        "\n",
        "You may use 5 code cells below this text cell to accomplish it."
      ],
      "metadata": {
        "id": "GbS4Cwh6t_Wy"
      }
    },
    {
      "cell_type": "code",
      "source": [
        "gun_df.info() #analyzing info of dataset"
      ],
      "metadata": {
        "colab": {
          "base_uri": "https://localhost:8080/"
        },
        "id": "bVPSk8OxwRrJ",
        "outputId": "e1d2af81-2bff-4b48-bd91-b827cce51388"
      },
      "execution_count": 3,
      "outputs": [
        {
          "output_type": "stream",
          "name": "stdout",
          "text": [
            "<class 'pandas.core.frame.DataFrame'>\n",
            "RangeIndex: 191 entries, 0 to 190\n",
            "Data columns (total 17 columns):\n",
            " #   Column                               Non-Null Count  Dtype  \n",
            "---  ------                               --------------  -----  \n",
            " 0   year                                 191 non-null    int64  \n",
            " 1   month                                191 non-null    int64  \n",
            " 2   guns_total_per_1000                  191 non-null    float64\n",
            " 3   guns_total                           191 non-null    int64  \n",
            " 4   guns_total_seas                      191 non-null    float64\n",
            " 5   handgun_share                        191 non-null    float64\n",
            " 6   longgun_share                        191 non-null    float64\n",
            " 7   missouri                             191 non-null    float64\n",
            " 8   maryland                             191 non-null    float64\n",
            " 9   new_jersey                           191 non-null    float64\n",
            " 10  district_of_columbia                 191 non-null    float64\n",
            " 11  mississippi                          191 non-null    float64\n",
            " 12  louisiana                            191 non-null    float64\n",
            " 13  alabama                              191 non-null    float64\n",
            " 14  texas                                191 non-null    float64\n",
            " 15  georgia                              191 non-null    float64\n",
            " 16  dc_handguns_per_100k_national_sales  191 non-null    float64\n",
            "dtypes: float64(14), int64(3)\n",
            "memory usage: 25.5 KB\n"
          ]
        }
      ]
    },
    {
      "cell_type": "code",
      "source": [
        "gun_df.describe() #describing data"
      ],
      "metadata": {
        "colab": {
          "base_uri": "https://localhost:8080/",
          "height": 320
        },
        "id": "jTqt_3G1xYUL",
        "outputId": "1386d4c5-6e40-4452-e01f-aba252aa7435"
      },
      "execution_count": 4,
      "outputs": [
        {
          "output_type": "execute_result",
          "data": {
            "text/plain": [
              "              year       month  guns_total_per_1000    guns_total  \\\n",
              "count   191.000000  191.000000           191.000000  1.910000e+02   \n",
              "mean   2007.460733    6.471204             2.709848  8.241782e+05   \n",
              "std       4.601748    3.447037             0.692974  3.073732e+05   \n",
              "min    2000.000000    1.000000             1.983000  4.097420e+05   \n",
              "25%    2003.500000    3.500000             2.222000  6.086745e+05   \n",
              "50%    2007.000000    6.000000             2.440000  7.609010e+05   \n",
              "75%    2011.000000    9.000000             3.256000  9.769635e+05   \n",
              "max    2015.000000   12.000000             6.388000  2.388128e+06   \n",
              "\n",
              "       guns_total_seas  handgun_share  longgun_share    missouri    maryland  \\\n",
              "count     1.910000e+02     191.000000     191.000000  191.000000  191.000000   \n",
              "mean      8.255436e+05       0.383959       0.600619    3.115471    0.920183   \n",
              "std       2.408114e+05       0.076203       0.084119    0.386864    0.386899   \n",
              "min       5.734940e+05       0.290200       0.392300    2.416000    0.636000   \n",
              "25%       6.363697e+05       0.311400       0.547500    2.746000    0.757500   \n",
              "50%       7.408464e+05       0.374800       0.610000    3.230000    0.844000   \n",
              "75%       1.018934e+06       0.433350       0.681500    3.472000    1.006500   \n",
              "max       2.014801e+06       0.575200       0.703000    3.944000    5.443000   \n",
              "\n",
              "       new_jersey  district_of_columbia  mississippi   louisiana     alabama  \\\n",
              "count  191.000000            191.000000   191.000000  191.000000  191.000000   \n",
              "mean     0.606492              0.002204     1.749812    2.420890    2.975366   \n",
              "std      0.116055              0.003236     0.304201    0.214123    0.174888   \n",
              "min      0.419000              0.000000     1.271000    1.849000    2.564000   \n",
              "25%      0.515500              0.000000     1.473500    2.282000    2.854500   \n",
              "50%      0.589000              0.001000     1.746000    2.393000    2.934000   \n",
              "75%      0.675500              0.004000     1.870000    2.511000    3.097500   \n",
              "max      1.141000              0.034000     2.473000    3.473000    3.470000   \n",
              "\n",
              "            texas     georgia  dc_handguns_per_100k_national_sales  \n",
              "count  191.000000  191.000000                           191.000000  \n",
              "mean     8.250958    2.683634                             4.100524  \n",
              "std      0.595859    0.412296                             4.073567  \n",
              "min      7.013000    2.113000                             0.000000  \n",
              "25%      7.791500    2.330000                             0.500000  \n",
              "50%      8.345000    2.571000                             2.100000  \n",
              "75%      8.657500    3.010500                             7.700000  \n",
              "max     10.512000    4.142000                            15.600000  "
            ],
            "text/html": [
              "\n",
              "  <div id=\"df-7ec62fcd-d6e3-42a3-aea0-04d81804998c\" class=\"colab-df-container\">\n",
              "    <div>\n",
              "<style scoped>\n",
              "    .dataframe tbody tr th:only-of-type {\n",
              "        vertical-align: middle;\n",
              "    }\n",
              "\n",
              "    .dataframe tbody tr th {\n",
              "        vertical-align: top;\n",
              "    }\n",
              "\n",
              "    .dataframe thead th {\n",
              "        text-align: right;\n",
              "    }\n",
              "</style>\n",
              "<table border=\"1\" class=\"dataframe\">\n",
              "  <thead>\n",
              "    <tr style=\"text-align: right;\">\n",
              "      <th></th>\n",
              "      <th>year</th>\n",
              "      <th>month</th>\n",
              "      <th>guns_total_per_1000</th>\n",
              "      <th>guns_total</th>\n",
              "      <th>guns_total_seas</th>\n",
              "      <th>handgun_share</th>\n",
              "      <th>longgun_share</th>\n",
              "      <th>missouri</th>\n",
              "      <th>maryland</th>\n",
              "      <th>new_jersey</th>\n",
              "      <th>district_of_columbia</th>\n",
              "      <th>mississippi</th>\n",
              "      <th>louisiana</th>\n",
              "      <th>alabama</th>\n",
              "      <th>texas</th>\n",
              "      <th>georgia</th>\n",
              "      <th>dc_handguns_per_100k_national_sales</th>\n",
              "    </tr>\n",
              "  </thead>\n",
              "  <tbody>\n",
              "    <tr>\n",
              "      <th>count</th>\n",
              "      <td>191.000000</td>\n",
              "      <td>191.000000</td>\n",
              "      <td>191.000000</td>\n",
              "      <td>1.910000e+02</td>\n",
              "      <td>1.910000e+02</td>\n",
              "      <td>191.000000</td>\n",
              "      <td>191.000000</td>\n",
              "      <td>191.000000</td>\n",
              "      <td>191.000000</td>\n",
              "      <td>191.000000</td>\n",
              "      <td>191.000000</td>\n",
              "      <td>191.000000</td>\n",
              "      <td>191.000000</td>\n",
              "      <td>191.000000</td>\n",
              "      <td>191.000000</td>\n",
              "      <td>191.000000</td>\n",
              "      <td>191.000000</td>\n",
              "    </tr>\n",
              "    <tr>\n",
              "      <th>mean</th>\n",
              "      <td>2007.460733</td>\n",
              "      <td>6.471204</td>\n",
              "      <td>2.709848</td>\n",
              "      <td>8.241782e+05</td>\n",
              "      <td>8.255436e+05</td>\n",
              "      <td>0.383959</td>\n",
              "      <td>0.600619</td>\n",
              "      <td>3.115471</td>\n",
              "      <td>0.920183</td>\n",
              "      <td>0.606492</td>\n",
              "      <td>0.002204</td>\n",
              "      <td>1.749812</td>\n",
              "      <td>2.420890</td>\n",
              "      <td>2.975366</td>\n",
              "      <td>8.250958</td>\n",
              "      <td>2.683634</td>\n",
              "      <td>4.100524</td>\n",
              "    </tr>\n",
              "    <tr>\n",
              "      <th>std</th>\n",
              "      <td>4.601748</td>\n",
              "      <td>3.447037</td>\n",
              "      <td>0.692974</td>\n",
              "      <td>3.073732e+05</td>\n",
              "      <td>2.408114e+05</td>\n",
              "      <td>0.076203</td>\n",
              "      <td>0.084119</td>\n",
              "      <td>0.386864</td>\n",
              "      <td>0.386899</td>\n",
              "      <td>0.116055</td>\n",
              "      <td>0.003236</td>\n",
              "      <td>0.304201</td>\n",
              "      <td>0.214123</td>\n",
              "      <td>0.174888</td>\n",
              "      <td>0.595859</td>\n",
              "      <td>0.412296</td>\n",
              "      <td>4.073567</td>\n",
              "    </tr>\n",
              "    <tr>\n",
              "      <th>min</th>\n",
              "      <td>2000.000000</td>\n",
              "      <td>1.000000</td>\n",
              "      <td>1.983000</td>\n",
              "      <td>4.097420e+05</td>\n",
              "      <td>5.734940e+05</td>\n",
              "      <td>0.290200</td>\n",
              "      <td>0.392300</td>\n",
              "      <td>2.416000</td>\n",
              "      <td>0.636000</td>\n",
              "      <td>0.419000</td>\n",
              "      <td>0.000000</td>\n",
              "      <td>1.271000</td>\n",
              "      <td>1.849000</td>\n",
              "      <td>2.564000</td>\n",
              "      <td>7.013000</td>\n",
              "      <td>2.113000</td>\n",
              "      <td>0.000000</td>\n",
              "    </tr>\n",
              "    <tr>\n",
              "      <th>25%</th>\n",
              "      <td>2003.500000</td>\n",
              "      <td>3.500000</td>\n",
              "      <td>2.222000</td>\n",
              "      <td>6.086745e+05</td>\n",
              "      <td>6.363697e+05</td>\n",
              "      <td>0.311400</td>\n",
              "      <td>0.547500</td>\n",
              "      <td>2.746000</td>\n",
              "      <td>0.757500</td>\n",
              "      <td>0.515500</td>\n",
              "      <td>0.000000</td>\n",
              "      <td>1.473500</td>\n",
              "      <td>2.282000</td>\n",
              "      <td>2.854500</td>\n",
              "      <td>7.791500</td>\n",
              "      <td>2.330000</td>\n",
              "      <td>0.500000</td>\n",
              "    </tr>\n",
              "    <tr>\n",
              "      <th>50%</th>\n",
              "      <td>2007.000000</td>\n",
              "      <td>6.000000</td>\n",
              "      <td>2.440000</td>\n",
              "      <td>7.609010e+05</td>\n",
              "      <td>7.408464e+05</td>\n",
              "      <td>0.374800</td>\n",
              "      <td>0.610000</td>\n",
              "      <td>3.230000</td>\n",
              "      <td>0.844000</td>\n",
              "      <td>0.589000</td>\n",
              "      <td>0.001000</td>\n",
              "      <td>1.746000</td>\n",
              "      <td>2.393000</td>\n",
              "      <td>2.934000</td>\n",
              "      <td>8.345000</td>\n",
              "      <td>2.571000</td>\n",
              "      <td>2.100000</td>\n",
              "    </tr>\n",
              "    <tr>\n",
              "      <th>75%</th>\n",
              "      <td>2011.000000</td>\n",
              "      <td>9.000000</td>\n",
              "      <td>3.256000</td>\n",
              "      <td>9.769635e+05</td>\n",
              "      <td>1.018934e+06</td>\n",
              "      <td>0.433350</td>\n",
              "      <td>0.681500</td>\n",
              "      <td>3.472000</td>\n",
              "      <td>1.006500</td>\n",
              "      <td>0.675500</td>\n",
              "      <td>0.004000</td>\n",
              "      <td>1.870000</td>\n",
              "      <td>2.511000</td>\n",
              "      <td>3.097500</td>\n",
              "      <td>8.657500</td>\n",
              "      <td>3.010500</td>\n",
              "      <td>7.700000</td>\n",
              "    </tr>\n",
              "    <tr>\n",
              "      <th>max</th>\n",
              "      <td>2015.000000</td>\n",
              "      <td>12.000000</td>\n",
              "      <td>6.388000</td>\n",
              "      <td>2.388128e+06</td>\n",
              "      <td>2.014801e+06</td>\n",
              "      <td>0.575200</td>\n",
              "      <td>0.703000</td>\n",
              "      <td>3.944000</td>\n",
              "      <td>5.443000</td>\n",
              "      <td>1.141000</td>\n",
              "      <td>0.034000</td>\n",
              "      <td>2.473000</td>\n",
              "      <td>3.473000</td>\n",
              "      <td>3.470000</td>\n",
              "      <td>10.512000</td>\n",
              "      <td>4.142000</td>\n",
              "      <td>15.600000</td>\n",
              "    </tr>\n",
              "  </tbody>\n",
              "</table>\n",
              "</div>\n",
              "    <div class=\"colab-df-buttons\">\n",
              "\n",
              "  <div class=\"colab-df-container\">\n",
              "    <button class=\"colab-df-convert\" onclick=\"convertToInteractive('df-7ec62fcd-d6e3-42a3-aea0-04d81804998c')\"\n",
              "            title=\"Convert this dataframe to an interactive table.\"\n",
              "            style=\"display:none;\">\n",
              "\n",
              "  <svg xmlns=\"http://www.w3.org/2000/svg\" height=\"24px\" viewBox=\"0 -960 960 960\">\n",
              "    <path d=\"M120-120v-720h720v720H120Zm60-500h600v-160H180v160Zm220 220h160v-160H400v160Zm0 220h160v-160H400v160ZM180-400h160v-160H180v160Zm440 0h160v-160H620v160ZM180-180h160v-160H180v160Zm440 0h160v-160H620v160Z\"/>\n",
              "  </svg>\n",
              "    </button>\n",
              "\n",
              "  <style>\n",
              "    .colab-df-container {\n",
              "      display:flex;\n",
              "      gap: 12px;\n",
              "    }\n",
              "\n",
              "    .colab-df-convert {\n",
              "      background-color: #E8F0FE;\n",
              "      border: none;\n",
              "      border-radius: 50%;\n",
              "      cursor: pointer;\n",
              "      display: none;\n",
              "      fill: #1967D2;\n",
              "      height: 32px;\n",
              "      padding: 0 0 0 0;\n",
              "      width: 32px;\n",
              "    }\n",
              "\n",
              "    .colab-df-convert:hover {\n",
              "      background-color: #E2EBFA;\n",
              "      box-shadow: 0px 1px 2px rgba(60, 64, 67, 0.3), 0px 1px 3px 1px rgba(60, 64, 67, 0.15);\n",
              "      fill: #174EA6;\n",
              "    }\n",
              "\n",
              "    .colab-df-buttons div {\n",
              "      margin-bottom: 4px;\n",
              "    }\n",
              "\n",
              "    [theme=dark] .colab-df-convert {\n",
              "      background-color: #3B4455;\n",
              "      fill: #D2E3FC;\n",
              "    }\n",
              "\n",
              "    [theme=dark] .colab-df-convert:hover {\n",
              "      background-color: #434B5C;\n",
              "      box-shadow: 0px 1px 3px 1px rgba(0, 0, 0, 0.15);\n",
              "      filter: drop-shadow(0px 1px 2px rgba(0, 0, 0, 0.3));\n",
              "      fill: #FFFFFF;\n",
              "    }\n",
              "  </style>\n",
              "\n",
              "    <script>\n",
              "      const buttonEl =\n",
              "        document.querySelector('#df-7ec62fcd-d6e3-42a3-aea0-04d81804998c button.colab-df-convert');\n",
              "      buttonEl.style.display =\n",
              "        google.colab.kernel.accessAllowed ? 'block' : 'none';\n",
              "\n",
              "      async function convertToInteractive(key) {\n",
              "        const element = document.querySelector('#df-7ec62fcd-d6e3-42a3-aea0-04d81804998c');\n",
              "        const dataTable =\n",
              "          await google.colab.kernel.invokeFunction('convertToInteractive',\n",
              "                                                    [key], {});\n",
              "        if (!dataTable) return;\n",
              "\n",
              "        const docLinkHtml = 'Like what you see? Visit the ' +\n",
              "          '<a target=\"_blank\" href=https://colab.research.google.com/notebooks/data_table.ipynb>data table notebook</a>'\n",
              "          + ' to learn more about interactive tables.';\n",
              "        element.innerHTML = '';\n",
              "        dataTable['output_type'] = 'display_data';\n",
              "        await google.colab.output.renderOutput(dataTable, element);\n",
              "        const docLink = document.createElement('div');\n",
              "        docLink.innerHTML = docLinkHtml;\n",
              "        element.appendChild(docLink);\n",
              "      }\n",
              "    </script>\n",
              "  </div>\n",
              "\n",
              "\n",
              "    <div id=\"df-e0712e04-264d-4626-983e-519083972def\">\n",
              "      <button class=\"colab-df-quickchart\" onclick=\"quickchart('df-e0712e04-264d-4626-983e-519083972def')\"\n",
              "                title=\"Suggest charts\"\n",
              "                style=\"display:none;\">\n",
              "\n",
              "<svg xmlns=\"http://www.w3.org/2000/svg\" height=\"24px\"viewBox=\"0 0 24 24\"\n",
              "     width=\"24px\">\n",
              "    <g>\n",
              "        <path d=\"M19 3H5c-1.1 0-2 .9-2 2v14c0 1.1.9 2 2 2h14c1.1 0 2-.9 2-2V5c0-1.1-.9-2-2-2zM9 17H7v-7h2v7zm4 0h-2V7h2v10zm4 0h-2v-4h2v4z\"/>\n",
              "    </g>\n",
              "</svg>\n",
              "      </button>\n",
              "\n",
              "<style>\n",
              "  .colab-df-quickchart {\n",
              "      --bg-color: #E8F0FE;\n",
              "      --fill-color: #1967D2;\n",
              "      --hover-bg-color: #E2EBFA;\n",
              "      --hover-fill-color: #174EA6;\n",
              "      --disabled-fill-color: #AAA;\n",
              "      --disabled-bg-color: #DDD;\n",
              "  }\n",
              "\n",
              "  [theme=dark] .colab-df-quickchart {\n",
              "      --bg-color: #3B4455;\n",
              "      --fill-color: #D2E3FC;\n",
              "      --hover-bg-color: #434B5C;\n",
              "      --hover-fill-color: #FFFFFF;\n",
              "      --disabled-bg-color: #3B4455;\n",
              "      --disabled-fill-color: #666;\n",
              "  }\n",
              "\n",
              "  .colab-df-quickchart {\n",
              "    background-color: var(--bg-color);\n",
              "    border: none;\n",
              "    border-radius: 50%;\n",
              "    cursor: pointer;\n",
              "    display: none;\n",
              "    fill: var(--fill-color);\n",
              "    height: 32px;\n",
              "    padding: 0;\n",
              "    width: 32px;\n",
              "  }\n",
              "\n",
              "  .colab-df-quickchart:hover {\n",
              "    background-color: var(--hover-bg-color);\n",
              "    box-shadow: 0 1px 2px rgba(60, 64, 67, 0.3), 0 1px 3px 1px rgba(60, 64, 67, 0.15);\n",
              "    fill: var(--button-hover-fill-color);\n",
              "  }\n",
              "\n",
              "  .colab-df-quickchart-complete:disabled,\n",
              "  .colab-df-quickchart-complete:disabled:hover {\n",
              "    background-color: var(--disabled-bg-color);\n",
              "    fill: var(--disabled-fill-color);\n",
              "    box-shadow: none;\n",
              "  }\n",
              "\n",
              "  .colab-df-spinner {\n",
              "    border: 2px solid var(--fill-color);\n",
              "    border-color: transparent;\n",
              "    border-bottom-color: var(--fill-color);\n",
              "    animation:\n",
              "      spin 1s steps(1) infinite;\n",
              "  }\n",
              "\n",
              "  @keyframes spin {\n",
              "    0% {\n",
              "      border-color: transparent;\n",
              "      border-bottom-color: var(--fill-color);\n",
              "      border-left-color: var(--fill-color);\n",
              "    }\n",
              "    20% {\n",
              "      border-color: transparent;\n",
              "      border-left-color: var(--fill-color);\n",
              "      border-top-color: var(--fill-color);\n",
              "    }\n",
              "    30% {\n",
              "      border-color: transparent;\n",
              "      border-left-color: var(--fill-color);\n",
              "      border-top-color: var(--fill-color);\n",
              "      border-right-color: var(--fill-color);\n",
              "    }\n",
              "    40% {\n",
              "      border-color: transparent;\n",
              "      border-right-color: var(--fill-color);\n",
              "      border-top-color: var(--fill-color);\n",
              "    }\n",
              "    60% {\n",
              "      border-color: transparent;\n",
              "      border-right-color: var(--fill-color);\n",
              "    }\n",
              "    80% {\n",
              "      border-color: transparent;\n",
              "      border-right-color: var(--fill-color);\n",
              "      border-bottom-color: var(--fill-color);\n",
              "    }\n",
              "    90% {\n",
              "      border-color: transparent;\n",
              "      border-bottom-color: var(--fill-color);\n",
              "    }\n",
              "  }\n",
              "</style>\n",
              "\n",
              "      <script>\n",
              "        async function quickchart(key) {\n",
              "          const quickchartButtonEl =\n",
              "            document.querySelector('#' + key + ' button');\n",
              "          quickchartButtonEl.disabled = true;  // To prevent multiple clicks.\n",
              "          quickchartButtonEl.classList.add('colab-df-spinner');\n",
              "          try {\n",
              "            const charts = await google.colab.kernel.invokeFunction(\n",
              "                'suggestCharts', [key], {});\n",
              "          } catch (error) {\n",
              "            console.error('Error during call to suggestCharts:', error);\n",
              "          }\n",
              "          quickchartButtonEl.classList.remove('colab-df-spinner');\n",
              "          quickchartButtonEl.classList.add('colab-df-quickchart-complete');\n",
              "        }\n",
              "        (() => {\n",
              "          let quickchartButtonEl =\n",
              "            document.querySelector('#df-e0712e04-264d-4626-983e-519083972def button');\n",
              "          quickchartButtonEl.style.display =\n",
              "            google.colab.kernel.accessAllowed ? 'block' : 'none';\n",
              "        })();\n",
              "      </script>\n",
              "    </div>\n",
              "\n",
              "    </div>\n",
              "  </div>\n"
            ],
            "application/vnd.google.colaboratory.intrinsic+json": {
              "type": "dataframe",
              "summary": "{\n  \"name\": \"gun_df\",\n  \"rows\": 8,\n  \"fields\": [\n    {\n      \"column\": \"year\",\n      \"properties\": {\n        \"dtype\": \"number\",\n        \"std\": 885.3527792308917,\n        \"min\": 4.601747664221646,\n        \"max\": 2015.0,\n        \"num_unique_values\": 8,\n        \"samples\": [\n          2007.4607329842931,\n          2007.0,\n          191.0\n        ],\n        \"semantic_type\": \"\",\n        \"description\": \"\"\n      }\n    },\n    {\n      \"column\": \"month\",\n      \"properties\": {\n        \"dtype\": \"number\",\n        \"std\": 65.52723393986388,\n        \"min\": 1.0,\n        \"max\": 191.0,\n        \"num_unique_values\": 8,\n        \"samples\": [\n          6.471204188481676,\n          6.0,\n          191.0\n        ],\n        \"semantic_type\": \"\",\n        \"description\": \"\"\n      }\n    },\n    {\n      \"column\": \"guns_total_per_1000\",\n      \"properties\": {\n        \"dtype\": \"number\",\n        \"std\": 66.55413935691506,\n        \"min\": 0.6929738682581975,\n        \"max\": 191.0,\n        \"num_unique_values\": 8,\n        \"samples\": [\n          2.709848167539267,\n          2.44,\n          191.0\n        ],\n        \"semantic_type\": \"\",\n        \"description\": \"\"\n      }\n    },\n    {\n      \"column\": \"guns_total\",\n      \"properties\": {\n        \"dtype\": \"number\",\n        \"std\": 719617.4561169378,\n        \"min\": 191.0,\n        \"max\": 2388128.0,\n        \"num_unique_values\": 8,\n        \"samples\": [\n          824178.2303664922,\n          760901.0,\n          191.0\n        ],\n        \"semantic_type\": \"\",\n        \"description\": \"\"\n      }\n    },\n    {\n      \"column\": \"guns_total_seas\",\n      \"properties\": {\n        \"dtype\": \"number\",\n        \"std\": 602739.6400415911,\n        \"min\": 191.0,\n        \"max\": 2014801.00354595,\n        \"num_unique_values\": 8,\n        \"samples\": [\n          825543.6386990731,\n          740846.431141264,\n          191.0\n        ],\n        \"semantic_type\": \"\",\n        \"description\": \"\"\n      }\n    },\n    {\n      \"column\": \"handgun_share\",\n      \"properties\": {\n        \"dtype\": \"number\",\n        \"std\": 67.40534859627712,\n        \"min\": 0.0762030336198899,\n        \"max\": 191.0,\n        \"num_unique_values\": 8,\n        \"samples\": [\n          0.3839586387434555,\n          0.3748,\n          191.0\n        ],\n        \"semantic_type\": \"\",\n        \"description\": \"\"\n      }\n    },\n    {\n      \"column\": \"longgun_share\",\n      \"properties\": {\n        \"dtype\": \"number\",\n        \"std\": 67.34620674463153,\n        \"min\": 0.08411949703044966,\n        \"max\": 191.0,\n        \"num_unique_values\": 8,\n        \"samples\": [\n          0.6006193717277487,\n          0.61,\n          191.0\n        ],\n        \"semantic_type\": \"\",\n        \"description\": \"\"\n      }\n    },\n    {\n      \"column\": \"missouri\",\n      \"properties\": {\n        \"dtype\": \"number\",\n        \"std\": 66.56197067674368,\n        \"min\": 0.386863947196067,\n        \"max\": 191.0,\n        \"num_unique_values\": 8,\n        \"samples\": [\n          3.1154712041884807,\n          3.23,\n          191.0\n        ],\n        \"semantic_type\": \"\",\n        \"description\": \"\"\n      }\n    },\n    {\n      \"column\": \"maryland\",\n      \"properties\": {\n        \"dtype\": \"number\",\n        \"std\": 67.04422708737793,\n        \"min\": 0.38689940611827095,\n        \"max\": 191.0,\n        \"num_unique_values\": 8,\n        \"samples\": [\n          0.9201832460732984,\n          0.844,\n          191.0\n        ],\n        \"semantic_type\": \"\",\n        \"description\": \"\"\n      }\n    },\n    {\n      \"column\": \"new_jersey\",\n      \"properties\": {\n        \"dtype\": \"number\",\n        \"std\": 67.32411267563145,\n        \"min\": 0.11605519871391269,\n        \"max\": 191.0,\n        \"num_unique_values\": 8,\n        \"samples\": [\n          0.6064921465968586,\n          0.589,\n          191.0\n        ],\n        \"semantic_type\": \"\",\n        \"description\": \"\"\n      }\n    },\n    {\n      \"column\": \"district_of_columbia\",\n      \"properties\": {\n        \"dtype\": \"number\",\n        \"std\": 67.52645401746209,\n        \"min\": 0.0,\n        \"max\": 191.0,\n        \"num_unique_values\": 7,\n        \"samples\": [\n          191.0,\n          0.0022041884816753924,\n          0.004\n        ],\n        \"semantic_type\": \"\",\n        \"description\": \"\"\n      }\n    },\n    {\n      \"column\": \"mississippi\",\n      \"properties\": {\n        \"dtype\": \"number\",\n        \"std\": 66.98164053878439,\n        \"min\": 0.3042013634927372,\n        \"max\": 191.0,\n        \"num_unique_values\": 8,\n        \"samples\": [\n          1.749811518324607,\n          1.746,\n          191.0\n        ],\n        \"semantic_type\": \"\",\n        \"description\": \"\"\n      }\n    },\n    {\n      \"column\": \"louisiana\",\n      \"properties\": {\n        \"dtype\": \"number\",\n        \"std\": 66.77013710609184,\n        \"min\": 0.21412277210073305,\n        \"max\": 191.0,\n        \"num_unique_values\": 8,\n        \"samples\": [\n          2.420890052356021,\n          2.393,\n          191.0\n        ],\n        \"semantic_type\": \"\",\n        \"description\": \"\"\n      }\n    },\n    {\n      \"column\": \"alabama\",\n      \"properties\": {\n        \"dtype\": \"number\",\n        \"std\": 66.62373342704315,\n        \"min\": 0.17488830037528666,\n        \"max\": 191.0,\n        \"num_unique_values\": 8,\n        \"samples\": [\n          2.9753664921465974,\n          2.934,\n          191.0\n        ],\n        \"semantic_type\": \"\",\n        \"description\": \"\"\n      }\n    },\n    {\n      \"column\": \"texas\",\n      \"properties\": {\n        \"dtype\": \"number\",\n        \"std\": 65.00975874034468,\n        \"min\": 0.5958586889387426,\n        \"max\": 191.0,\n        \"num_unique_values\": 8,\n        \"samples\": [\n          8.250958115183247,\n          8.345,\n          191.0\n        ],\n        \"semantic_type\": \"\",\n        \"description\": \"\"\n      }\n    },\n    {\n      \"column\": \"georgia\",\n      \"properties\": {\n        \"dtype\": \"number\",\n        \"std\": 66.6648760911901,\n        \"min\": 0.41229576982875143,\n        \"max\": 191.0,\n        \"num_unique_values\": 8,\n        \"samples\": [\n          2.683633507853403,\n          2.571,\n          191.0\n        ],\n        \"semantic_type\": \"\",\n        \"description\": \"\"\n      }\n    },\n    {\n      \"column\": \"dc_handguns_per_100k_national_sales\",\n      \"properties\": {\n        \"dtype\": \"number\",\n        \"std\": 65.99721310929128,\n        \"min\": 0.0,\n        \"max\": 191.0,\n        \"num_unique_values\": 8,\n        \"samples\": [\n          4.1005235602094245,\n          2.1,\n          191.0\n        ],\n        \"semantic_type\": \"\",\n        \"description\": \"\"\n      }\n    }\n  ]\n}"
            }
          },
          "metadata": {},
          "execution_count": 4
        }
      ]
    },
    {
      "cell_type": "code",
      "source": [
        "gun_df.head() # seeing first few data rows"
      ],
      "metadata": {
        "colab": {
          "base_uri": "https://localhost:8080/",
          "height": 226
        },
        "id": "Lpqs4jMDxkgL",
        "outputId": "715a8052-43ce-46e2-99e9-e717c2d8c22e"
      },
      "execution_count": 5,
      "outputs": [
        {
          "output_type": "execute_result",
          "data": {
            "text/plain": [
              "   year  month  guns_total_per_1000  guns_total  guns_total_seas  \\\n",
              "0  2000      1                2.332      574951    655088.710686   \n",
              "1  2000      2                2.344      649111    658925.860865   \n",
              "2  2000      3                2.335      664622    657021.995132   \n",
              "3  2000      4                2.342      552965    659698.475053   \n",
              "4  2000      5                2.297      467712    647409.449153   \n",
              "\n",
              "   handgun_share  longgun_share  missouri  maryland  new_jersey  \\\n",
              "0         0.3183         0.6749     2.710     0.636       0.469   \n",
              "1         0.3178         0.6755     2.728     0.642       0.475   \n",
              "2         0.3202         0.6728     2.668     0.644       0.493   \n",
              "3         0.3188         0.6741     2.743     0.687       0.517   \n",
              "4         0.3148         0.6775     2.739     0.678       0.525   \n",
              "\n",
              "   district_of_columbia  mississippi  louisiana  alabama  texas  georgia  \\\n",
              "0                   0.0        2.391      2.506    3.140  8.164    3.075   \n",
              "1                   0.0        2.394      2.493    3.122  8.274    3.045   \n",
              "2                   0.0        2.339      2.447    3.071  8.443    3.067   \n",
              "3                   0.0        2.422      2.601    3.188  8.451    3.171   \n",
              "4                   0.0        2.453      2.538    3.179  8.506    3.092   \n",
              "\n",
              "   dc_handguns_per_100k_national_sales  \n",
              "0                                  2.1  \n",
              "1                                  0.5  \n",
              "2                                  1.0  \n",
              "3                                  1.5  \n",
              "4                                  1.1  "
            ],
            "text/html": [
              "\n",
              "  <div id=\"df-c88e649e-0cfb-415d-8285-36a87e0ee0b0\" class=\"colab-df-container\">\n",
              "    <div>\n",
              "<style scoped>\n",
              "    .dataframe tbody tr th:only-of-type {\n",
              "        vertical-align: middle;\n",
              "    }\n",
              "\n",
              "    .dataframe tbody tr th {\n",
              "        vertical-align: top;\n",
              "    }\n",
              "\n",
              "    .dataframe thead th {\n",
              "        text-align: right;\n",
              "    }\n",
              "</style>\n",
              "<table border=\"1\" class=\"dataframe\">\n",
              "  <thead>\n",
              "    <tr style=\"text-align: right;\">\n",
              "      <th></th>\n",
              "      <th>year</th>\n",
              "      <th>month</th>\n",
              "      <th>guns_total_per_1000</th>\n",
              "      <th>guns_total</th>\n",
              "      <th>guns_total_seas</th>\n",
              "      <th>handgun_share</th>\n",
              "      <th>longgun_share</th>\n",
              "      <th>missouri</th>\n",
              "      <th>maryland</th>\n",
              "      <th>new_jersey</th>\n",
              "      <th>district_of_columbia</th>\n",
              "      <th>mississippi</th>\n",
              "      <th>louisiana</th>\n",
              "      <th>alabama</th>\n",
              "      <th>texas</th>\n",
              "      <th>georgia</th>\n",
              "      <th>dc_handguns_per_100k_national_sales</th>\n",
              "    </tr>\n",
              "  </thead>\n",
              "  <tbody>\n",
              "    <tr>\n",
              "      <th>0</th>\n",
              "      <td>2000</td>\n",
              "      <td>1</td>\n",
              "      <td>2.332</td>\n",
              "      <td>574951</td>\n",
              "      <td>655088.710686</td>\n",
              "      <td>0.3183</td>\n",
              "      <td>0.6749</td>\n",
              "      <td>2.710</td>\n",
              "      <td>0.636</td>\n",
              "      <td>0.469</td>\n",
              "      <td>0.0</td>\n",
              "      <td>2.391</td>\n",
              "      <td>2.506</td>\n",
              "      <td>3.140</td>\n",
              "      <td>8.164</td>\n",
              "      <td>3.075</td>\n",
              "      <td>2.1</td>\n",
              "    </tr>\n",
              "    <tr>\n",
              "      <th>1</th>\n",
              "      <td>2000</td>\n",
              "      <td>2</td>\n",
              "      <td>2.344</td>\n",
              "      <td>649111</td>\n",
              "      <td>658925.860865</td>\n",
              "      <td>0.3178</td>\n",
              "      <td>0.6755</td>\n",
              "      <td>2.728</td>\n",
              "      <td>0.642</td>\n",
              "      <td>0.475</td>\n",
              "      <td>0.0</td>\n",
              "      <td>2.394</td>\n",
              "      <td>2.493</td>\n",
              "      <td>3.122</td>\n",
              "      <td>8.274</td>\n",
              "      <td>3.045</td>\n",
              "      <td>0.5</td>\n",
              "    </tr>\n",
              "    <tr>\n",
              "      <th>2</th>\n",
              "      <td>2000</td>\n",
              "      <td>3</td>\n",
              "      <td>2.335</td>\n",
              "      <td>664622</td>\n",
              "      <td>657021.995132</td>\n",
              "      <td>0.3202</td>\n",
              "      <td>0.6728</td>\n",
              "      <td>2.668</td>\n",
              "      <td>0.644</td>\n",
              "      <td>0.493</td>\n",
              "      <td>0.0</td>\n",
              "      <td>2.339</td>\n",
              "      <td>2.447</td>\n",
              "      <td>3.071</td>\n",
              "      <td>8.443</td>\n",
              "      <td>3.067</td>\n",
              "      <td>1.0</td>\n",
              "    </tr>\n",
              "    <tr>\n",
              "      <th>3</th>\n",
              "      <td>2000</td>\n",
              "      <td>4</td>\n",
              "      <td>2.342</td>\n",
              "      <td>552965</td>\n",
              "      <td>659698.475053</td>\n",
              "      <td>0.3188</td>\n",
              "      <td>0.6741</td>\n",
              "      <td>2.743</td>\n",
              "      <td>0.687</td>\n",
              "      <td>0.517</td>\n",
              "      <td>0.0</td>\n",
              "      <td>2.422</td>\n",
              "      <td>2.601</td>\n",
              "      <td>3.188</td>\n",
              "      <td>8.451</td>\n",
              "      <td>3.171</td>\n",
              "      <td>1.5</td>\n",
              "    </tr>\n",
              "    <tr>\n",
              "      <th>4</th>\n",
              "      <td>2000</td>\n",
              "      <td>5</td>\n",
              "      <td>2.297</td>\n",
              "      <td>467712</td>\n",
              "      <td>647409.449153</td>\n",
              "      <td>0.3148</td>\n",
              "      <td>0.6775</td>\n",
              "      <td>2.739</td>\n",
              "      <td>0.678</td>\n",
              "      <td>0.525</td>\n",
              "      <td>0.0</td>\n",
              "      <td>2.453</td>\n",
              "      <td>2.538</td>\n",
              "      <td>3.179</td>\n",
              "      <td>8.506</td>\n",
              "      <td>3.092</td>\n",
              "      <td>1.1</td>\n",
              "    </tr>\n",
              "  </tbody>\n",
              "</table>\n",
              "</div>\n",
              "    <div class=\"colab-df-buttons\">\n",
              "\n",
              "  <div class=\"colab-df-container\">\n",
              "    <button class=\"colab-df-convert\" onclick=\"convertToInteractive('df-c88e649e-0cfb-415d-8285-36a87e0ee0b0')\"\n",
              "            title=\"Convert this dataframe to an interactive table.\"\n",
              "            style=\"display:none;\">\n",
              "\n",
              "  <svg xmlns=\"http://www.w3.org/2000/svg\" height=\"24px\" viewBox=\"0 -960 960 960\">\n",
              "    <path d=\"M120-120v-720h720v720H120Zm60-500h600v-160H180v160Zm220 220h160v-160H400v160Zm0 220h160v-160H400v160ZM180-400h160v-160H180v160Zm440 0h160v-160H620v160ZM180-180h160v-160H180v160Zm440 0h160v-160H620v160Z\"/>\n",
              "  </svg>\n",
              "    </button>\n",
              "\n",
              "  <style>\n",
              "    .colab-df-container {\n",
              "      display:flex;\n",
              "      gap: 12px;\n",
              "    }\n",
              "\n",
              "    .colab-df-convert {\n",
              "      background-color: #E8F0FE;\n",
              "      border: none;\n",
              "      border-radius: 50%;\n",
              "      cursor: pointer;\n",
              "      display: none;\n",
              "      fill: #1967D2;\n",
              "      height: 32px;\n",
              "      padding: 0 0 0 0;\n",
              "      width: 32px;\n",
              "    }\n",
              "\n",
              "    .colab-df-convert:hover {\n",
              "      background-color: #E2EBFA;\n",
              "      box-shadow: 0px 1px 2px rgba(60, 64, 67, 0.3), 0px 1px 3px 1px rgba(60, 64, 67, 0.15);\n",
              "      fill: #174EA6;\n",
              "    }\n",
              "\n",
              "    .colab-df-buttons div {\n",
              "      margin-bottom: 4px;\n",
              "    }\n",
              "\n",
              "    [theme=dark] .colab-df-convert {\n",
              "      background-color: #3B4455;\n",
              "      fill: #D2E3FC;\n",
              "    }\n",
              "\n",
              "    [theme=dark] .colab-df-convert:hover {\n",
              "      background-color: #434B5C;\n",
              "      box-shadow: 0px 1px 3px 1px rgba(0, 0, 0, 0.15);\n",
              "      filter: drop-shadow(0px 1px 2px rgba(0, 0, 0, 0.3));\n",
              "      fill: #FFFFFF;\n",
              "    }\n",
              "  </style>\n",
              "\n",
              "    <script>\n",
              "      const buttonEl =\n",
              "        document.querySelector('#df-c88e649e-0cfb-415d-8285-36a87e0ee0b0 button.colab-df-convert');\n",
              "      buttonEl.style.display =\n",
              "        google.colab.kernel.accessAllowed ? 'block' : 'none';\n",
              "\n",
              "      async function convertToInteractive(key) {\n",
              "        const element = document.querySelector('#df-c88e649e-0cfb-415d-8285-36a87e0ee0b0');\n",
              "        const dataTable =\n",
              "          await google.colab.kernel.invokeFunction('convertToInteractive',\n",
              "                                                    [key], {});\n",
              "        if (!dataTable) return;\n",
              "\n",
              "        const docLinkHtml = 'Like what you see? Visit the ' +\n",
              "          '<a target=\"_blank\" href=https://colab.research.google.com/notebooks/data_table.ipynb>data table notebook</a>'\n",
              "          + ' to learn more about interactive tables.';\n",
              "        element.innerHTML = '';\n",
              "        dataTable['output_type'] = 'display_data';\n",
              "        await google.colab.output.renderOutput(dataTable, element);\n",
              "        const docLink = document.createElement('div');\n",
              "        docLink.innerHTML = docLinkHtml;\n",
              "        element.appendChild(docLink);\n",
              "      }\n",
              "    </script>\n",
              "  </div>\n",
              "\n",
              "\n",
              "    <div id=\"df-bb924910-8423-46d8-95ec-1161ab0079b6\">\n",
              "      <button class=\"colab-df-quickchart\" onclick=\"quickchart('df-bb924910-8423-46d8-95ec-1161ab0079b6')\"\n",
              "                title=\"Suggest charts\"\n",
              "                style=\"display:none;\">\n",
              "\n",
              "<svg xmlns=\"http://www.w3.org/2000/svg\" height=\"24px\"viewBox=\"0 0 24 24\"\n",
              "     width=\"24px\">\n",
              "    <g>\n",
              "        <path d=\"M19 3H5c-1.1 0-2 .9-2 2v14c0 1.1.9 2 2 2h14c1.1 0 2-.9 2-2V5c0-1.1-.9-2-2-2zM9 17H7v-7h2v7zm4 0h-2V7h2v10zm4 0h-2v-4h2v4z\"/>\n",
              "    </g>\n",
              "</svg>\n",
              "      </button>\n",
              "\n",
              "<style>\n",
              "  .colab-df-quickchart {\n",
              "      --bg-color: #E8F0FE;\n",
              "      --fill-color: #1967D2;\n",
              "      --hover-bg-color: #E2EBFA;\n",
              "      --hover-fill-color: #174EA6;\n",
              "      --disabled-fill-color: #AAA;\n",
              "      --disabled-bg-color: #DDD;\n",
              "  }\n",
              "\n",
              "  [theme=dark] .colab-df-quickchart {\n",
              "      --bg-color: #3B4455;\n",
              "      --fill-color: #D2E3FC;\n",
              "      --hover-bg-color: #434B5C;\n",
              "      --hover-fill-color: #FFFFFF;\n",
              "      --disabled-bg-color: #3B4455;\n",
              "      --disabled-fill-color: #666;\n",
              "  }\n",
              "\n",
              "  .colab-df-quickchart {\n",
              "    background-color: var(--bg-color);\n",
              "    border: none;\n",
              "    border-radius: 50%;\n",
              "    cursor: pointer;\n",
              "    display: none;\n",
              "    fill: var(--fill-color);\n",
              "    height: 32px;\n",
              "    padding: 0;\n",
              "    width: 32px;\n",
              "  }\n",
              "\n",
              "  .colab-df-quickchart:hover {\n",
              "    background-color: var(--hover-bg-color);\n",
              "    box-shadow: 0 1px 2px rgba(60, 64, 67, 0.3), 0 1px 3px 1px rgba(60, 64, 67, 0.15);\n",
              "    fill: var(--button-hover-fill-color);\n",
              "  }\n",
              "\n",
              "  .colab-df-quickchart-complete:disabled,\n",
              "  .colab-df-quickchart-complete:disabled:hover {\n",
              "    background-color: var(--disabled-bg-color);\n",
              "    fill: var(--disabled-fill-color);\n",
              "    box-shadow: none;\n",
              "  }\n",
              "\n",
              "  .colab-df-spinner {\n",
              "    border: 2px solid var(--fill-color);\n",
              "    border-color: transparent;\n",
              "    border-bottom-color: var(--fill-color);\n",
              "    animation:\n",
              "      spin 1s steps(1) infinite;\n",
              "  }\n",
              "\n",
              "  @keyframes spin {\n",
              "    0% {\n",
              "      border-color: transparent;\n",
              "      border-bottom-color: var(--fill-color);\n",
              "      border-left-color: var(--fill-color);\n",
              "    }\n",
              "    20% {\n",
              "      border-color: transparent;\n",
              "      border-left-color: var(--fill-color);\n",
              "      border-top-color: var(--fill-color);\n",
              "    }\n",
              "    30% {\n",
              "      border-color: transparent;\n",
              "      border-left-color: var(--fill-color);\n",
              "      border-top-color: var(--fill-color);\n",
              "      border-right-color: var(--fill-color);\n",
              "    }\n",
              "    40% {\n",
              "      border-color: transparent;\n",
              "      border-right-color: var(--fill-color);\n",
              "      border-top-color: var(--fill-color);\n",
              "    }\n",
              "    60% {\n",
              "      border-color: transparent;\n",
              "      border-right-color: var(--fill-color);\n",
              "    }\n",
              "    80% {\n",
              "      border-color: transparent;\n",
              "      border-right-color: var(--fill-color);\n",
              "      border-bottom-color: var(--fill-color);\n",
              "    }\n",
              "    90% {\n",
              "      border-color: transparent;\n",
              "      border-bottom-color: var(--fill-color);\n",
              "    }\n",
              "  }\n",
              "</style>\n",
              "\n",
              "      <script>\n",
              "        async function quickchart(key) {\n",
              "          const quickchartButtonEl =\n",
              "            document.querySelector('#' + key + ' button');\n",
              "          quickchartButtonEl.disabled = true;  // To prevent multiple clicks.\n",
              "          quickchartButtonEl.classList.add('colab-df-spinner');\n",
              "          try {\n",
              "            const charts = await google.colab.kernel.invokeFunction(\n",
              "                'suggestCharts', [key], {});\n",
              "          } catch (error) {\n",
              "            console.error('Error during call to suggestCharts:', error);\n",
              "          }\n",
              "          quickchartButtonEl.classList.remove('colab-df-spinner');\n",
              "          quickchartButtonEl.classList.add('colab-df-quickchart-complete');\n",
              "        }\n",
              "        (() => {\n",
              "          let quickchartButtonEl =\n",
              "            document.querySelector('#df-bb924910-8423-46d8-95ec-1161ab0079b6 button');\n",
              "          quickchartButtonEl.style.display =\n",
              "            google.colab.kernel.accessAllowed ? 'block' : 'none';\n",
              "        })();\n",
              "      </script>\n",
              "    </div>\n",
              "\n",
              "    </div>\n",
              "  </div>\n"
            ],
            "application/vnd.google.colaboratory.intrinsic+json": {
              "type": "dataframe",
              "variable_name": "gun_df",
              "summary": "{\n  \"name\": \"gun_df\",\n  \"rows\": 191,\n  \"fields\": [\n    {\n      \"column\": \"year\",\n      \"properties\": {\n        \"dtype\": \"number\",\n        \"std\": 4,\n        \"min\": 2000,\n        \"max\": 2015,\n        \"num_unique_values\": 16,\n        \"samples\": [\n          2000,\n          2001,\n          2005\n        ],\n        \"semantic_type\": \"\",\n        \"description\": \"\"\n      }\n    },\n    {\n      \"column\": \"month\",\n      \"properties\": {\n        \"dtype\": \"number\",\n        \"std\": 3,\n        \"min\": 1,\n        \"max\": 12,\n        \"num_unique_values\": 12,\n        \"samples\": [\n          11,\n          10,\n          1\n        ],\n        \"semantic_type\": \"\",\n        \"description\": \"\"\n      }\n    },\n    {\n      \"column\": \"guns_total_per_1000\",\n      \"properties\": {\n        \"dtype\": \"number\",\n        \"std\": 0.6929738682581975,\n        \"min\": 1.983,\n        \"max\": 6.388,\n        \"num_unique_values\": 173,\n        \"samples\": [\n          3.556,\n          2.06,\n          2.523\n        ],\n        \"semantic_type\": \"\",\n        \"description\": \"\"\n      }\n    },\n    {\n      \"column\": \"guns_total\",\n      \"properties\": {\n        \"dtype\": \"number\",\n        \"std\": 307373,\n        \"min\": 409742,\n        \"max\": 2388128,\n        \"num_unique_values\": 191,\n        \"samples\": [\n          1035866,\n          589939,\n          1570309\n        ],\n        \"semantic_type\": \"\",\n        \"description\": \"\"\n      }\n    },\n    {\n      \"column\": \"guns_total_seas\",\n      \"properties\": {\n        \"dtype\": \"number\",\n        \"std\": 240811.37473429897,\n        \"min\": 573493.954294938,\n        \"max\": 2014801.00354595,\n        \"num_unique_values\": 191,\n        \"samples\": [\n          1140109.47365688,\n          674279.040239715,\n          1335276.49572162\n        ],\n        \"semantic_type\": \"\",\n        \"description\": \"\"\n      }\n    },\n    {\n      \"column\": \"handgun_share\",\n      \"properties\": {\n        \"dtype\": \"number\",\n        \"std\": 0.0762030336198899,\n        \"min\": 0.2902,\n        \"max\": 0.5752,\n        \"num_unique_values\": 178,\n        \"samples\": [\n          0.2902,\n          0.3073,\n          0.4588\n        ],\n        \"semantic_type\": \"\",\n        \"description\": \"\"\n      }\n    },\n    {\n      \"column\": \"longgun_share\",\n      \"properties\": {\n        \"dtype\": \"number\",\n        \"std\": 0.08411949703044966,\n        \"min\": 0.3923,\n        \"max\": 0.703,\n        \"num_unique_values\": 180,\n        \"samples\": [\n          0.6468,\n          0.6824,\n          0.509\n        ],\n        \"semantic_type\": \"\",\n        \"description\": \"\"\n      }\n    },\n    {\n      \"column\": \"missouri\",\n      \"properties\": {\n        \"dtype\": \"number\",\n        \"std\": 0.386863947196067,\n        \"min\": 2.416,\n        \"max\": 3.944,\n        \"num_unique_values\": 171,\n        \"samples\": [\n          3.59,\n          2.869,\n          2.831\n        ],\n        \"semantic_type\": \"\",\n        \"description\": \"\"\n      }\n    },\n    {\n      \"column\": \"maryland\",\n      \"properties\": {\n        \"dtype\": \"number\",\n        \"std\": 0.38689940611827095,\n        \"min\": 0.636,\n        \"max\": 5.443,\n        \"num_unique_values\": 160,\n        \"samples\": [\n          1.041,\n          1.012,\n          1.876\n        ],\n        \"semantic_type\": \"\",\n        \"description\": \"\"\n      }\n    },\n    {\n      \"column\": \"new_jersey\",\n      \"properties\": {\n        \"dtype\": \"number\",\n        \"std\": 0.11605519871391269,\n        \"min\": 0.419,\n        \"max\": 1.141,\n        \"num_unique_values\": 143,\n        \"samples\": [\n          0.684,\n          0.567,\n          0.504\n        ],\n        \"semantic_type\": \"\",\n        \"description\": \"\"\n      }\n    },\n    {\n      \"column\": \"district_of_columbia\",\n      \"properties\": {\n        \"dtype\": \"number\",\n        \"std\": 0.003235523750992264,\n        \"min\": 0.0,\n        \"max\": 0.034,\n        \"num_unique_values\": 11,\n        \"samples\": [\n          0.008,\n          0.0,\n          0.004\n        ],\n        \"semantic_type\": \"\",\n        \"description\": \"\"\n      }\n    },\n    {\n      \"column\": \"mississippi\",\n      \"properties\": {\n        \"dtype\": \"number\",\n        \"std\": 0.3042013634927372,\n        \"min\": 1.271,\n        \"max\": 2.473,\n        \"num_unique_values\": 170,\n        \"samples\": [\n          1.484,\n          1.847,\n          1.552\n        ],\n        \"semantic_type\": \"\",\n        \"description\": \"\"\n      }\n    },\n    {\n      \"column\": \"louisiana\",\n      \"properties\": {\n        \"dtype\": \"number\",\n        \"std\": 0.21412277210073305,\n        \"min\": 1.849,\n        \"max\": 3.473,\n        \"num_unique_values\": 168,\n        \"samples\": [\n          2.333,\n          2.466,\n          2.307\n        ],\n        \"semantic_type\": \"\",\n        \"description\": \"\"\n      }\n    },\n    {\n      \"column\": \"alabama\",\n      \"properties\": {\n        \"dtype\": \"number\",\n        \"std\": 0.17488830037528666,\n        \"min\": 2.564,\n        \"max\": 3.47,\n        \"num_unique_values\": 162,\n        \"samples\": [\n          3.47,\n          3.059,\n          2.934\n        ],\n        \"semantic_type\": \"\",\n        \"description\": \"\"\n      }\n    },\n    {\n      \"column\": \"texas\",\n      \"properties\": {\n        \"dtype\": \"number\",\n        \"std\": 0.5958586889387426,\n        \"min\": 7.013,\n        \"max\": 10.512,\n        \"num_unique_values\": 185,\n        \"samples\": [\n          7.92,\n          7.844,\n          8.809\n        ],\n        \"semantic_type\": \"\",\n        \"description\": \"\"\n      }\n    },\n    {\n      \"column\": \"georgia\",\n      \"properties\": {\n        \"dtype\": \"number\",\n        \"std\": 0.41229576982875143,\n        \"min\": 2.113,\n        \"max\": 4.142,\n        \"num_unique_values\": 172,\n        \"samples\": [\n          2.795,\n          2.293,\n          2.25\n        ],\n        \"semantic_type\": \"\",\n        \"description\": \"\"\n      }\n    },\n    {\n      \"column\": \"dc_handguns_per_100k_national_sales\",\n      \"properties\": {\n        \"dtype\": \"number\",\n        \"std\": 4.07356687595319,\n        \"min\": 0.0,\n        \"max\": 15.6,\n        \"num_unique_values\": 74,\n        \"samples\": [\n          1.1,\n          10.7,\n          0.9\n        ],\n        \"semantic_type\": \"\",\n        \"description\": \"\"\n      }\n    }\n  ]\n}"
            }
          },
          "metadata": {},
          "execution_count": 5
        }
      ]
    },
    {
      "cell_type": "code",
      "source": [
        "gun_df.shape #identifying data shape"
      ],
      "metadata": {
        "colab": {
          "base_uri": "https://localhost:8080/"
        },
        "id": "5qAEtdYzxnz6",
        "outputId": "605571aa-0182-4f77-8112-3acbee6285c8"
      },
      "execution_count": 6,
      "outputs": [
        {
          "output_type": "execute_result",
          "data": {
            "text/plain": [
              "(191, 17)"
            ]
          },
          "metadata": {},
          "execution_count": 6
        }
      ]
    },
    {
      "cell_type": "code",
      "source": [
        "gun_df.columns #identifying columns in data"
      ],
      "metadata": {
        "colab": {
          "base_uri": "https://localhost:8080/"
        },
        "id": "Z4IDN2YMxt9q",
        "outputId": "eea8e1e2-d2ad-4b51-8fc3-f944fac07291"
      },
      "execution_count": 7,
      "outputs": [
        {
          "output_type": "execute_result",
          "data": {
            "text/plain": [
              "Index(['year', 'month', 'guns_total_per_1000', 'guns_total', 'guns_total_seas',\n",
              "       'handgun_share', 'longgun_share', 'missouri', 'maryland', 'new_jersey',\n",
              "       'district_of_columbia', 'mississippi', 'louisiana', 'alabama', 'texas',\n",
              "       'georgia', 'dc_handguns_per_100k_national_sales'],\n",
              "      dtype='object')"
            ]
          },
          "metadata": {},
          "execution_count": 7
        }
      ]
    },
    {
      "cell_type": "markdown",
      "source": [
        "5. Inquiry Question: Write a clear, specific question that you want to answer using your dataset by creating a text cell below and **write the question in bold please.**\n",
        "\n",
        "For example:\n",
        "\n",
        "* \"How has the average temperature changed in major cities over the past decade?\"\n",
        "\n",
        "* \"What factors are most strongly correlated with housing prices?\"\n",
        "\n",
        "* \"Is there a relationship between education level and income?\""
      ],
      "metadata": {
        "id": "1CAoVArPubG2"
      }
    },
    {
      "cell_type": "markdown",
      "source": [
        "**When are the seasonal peaks of number of gun sales nationwide?**\n"
      ],
      "metadata": {
        "id": "L5K7Is2rx1C1"
      }
    },
    {
      "cell_type": "markdown",
      "source": [
        "## Part 2: Data Visualization and Analysis"
      ],
      "metadata": {
        "id": "leRD1hhlvBL9"
      }
    },
    {
      "cell_type": "markdown",
      "source": [
        "#### TODO Tasks:"
      ],
      "metadata": {
        "id": "SQL1K1UivEhO"
      }
    },
    {
      "cell_type": "markdown",
      "source": [
        "1. Data Cleaning (if necessary): Check for and handle any missing values, duplicates, or data quality issues.\n",
        "\n",
        "**NOTE: This could be a daunting task even for seasoned data scientists. My suggestion is to use a dataset that is already clean if you can for the purpose of completing this assignment in a week.**"
      ],
      "metadata": {
        "id": "MH6rcdRpxz1h"
      }
    },
    {
      "cell_type": "markdown",
      "source": [
        "Examples:\n",
        "\n",
        "* Checking for missing values: df.isnull().sum()\n",
        "* Dropping rows with any missing values: df.dropna(inplace=True)\n",
        "* Dropping columns with all missing values: df.dropna(axis=1, how='all', inplace=True)\n",
        "* Removing duplicate row: df.drop_duplicates(inplace=True)"
      ],
      "metadata": {
        "id": "k3EEucl20uOF"
      }
    },
    {
      "cell_type": "code",
      "source": [
        "# prompt: Check for and handle any missing values, duplicates, or data quality issues.\n",
        "\n",
        "# Check for missing values\n",
        "print(\"Missing values per column:\")\n",
        "print(gun_df.isnull().sum())\n",
        "\n",
        "# Check for duplicate rows\n",
        "print(\"\\nNumber of duplicate rows:\")\n",
        "print(gun_df.duplicated().sum())\n",
        "\n",
        "# Handle missing values (example: dropping rows with any missing values - choose appropriate strategy for your data)\n",
        "# For this dataset, the columns seem clean. If there were missing values, you might do something like:\n",
        "# gun_df.dropna(inplace=True)\n",
        "\n",
        "# Handle duplicate rows (example: dropping duplicate rows)\n",
        "if gun_df.duplicated().sum() > 0:\n",
        "    print(\"\\nDropping duplicate rows...\")\n",
        "    #gun_df.drop_duplicates(inplace=True)\n",
        "    print(\"Number of duplicate rows after dropping:\", gun_df.duplicated().sum())\n",
        "\n",
        "# For this dataset, it seems relatively clean based on the initial inspection.\n",
        "# Data quality issues often require domain knowledge and deeper analysis depending on the specific dataset and columns.\n",
        "# For instance, you might check for outliers in numerical columns or inconsistent formats in categorical columns.\n",
        "# As the prompt suggests focusing on a clean dataset for this project, we will proceed assuming the data is of sufficient quality for exploration and visualization."
      ],
      "metadata": {
        "colab": {
          "base_uri": "https://localhost:8080/"
        },
        "id": "sZcYGC8q2c85",
        "outputId": "3ec1ffc1-f98d-42be-bfd7-0795ce1c2dda"
      },
      "execution_count": 8,
      "outputs": [
        {
          "output_type": "stream",
          "name": "stdout",
          "text": [
            "Missing values per column:\n",
            "year                                   0\n",
            "month                                  0\n",
            "guns_total_per_1000                    0\n",
            "guns_total                             0\n",
            "guns_total_seas                        0\n",
            "handgun_share                          0\n",
            "longgun_share                          0\n",
            "missouri                               0\n",
            "maryland                               0\n",
            "new_jersey                             0\n",
            "district_of_columbia                   0\n",
            "mississippi                            0\n",
            "louisiana                              0\n",
            "alabama                                0\n",
            "texas                                  0\n",
            "georgia                                0\n",
            "dc_handguns_per_100k_national_sales    0\n",
            "dtype: int64\n",
            "\n",
            "Number of duplicate rows:\n",
            "0\n"
          ]
        }
      ]
    },
    {
      "cell_type": "markdown",
      "source": [
        "2. Create Visualizations: Create at least 2 different types of visualizations that help answer your research question. Choose from:\n",
        "\n",
        "* Bar charts\n",
        "* Line plots\n",
        "* Scatter plots\n",
        "* Histograms\n",
        "* Box plots\n",
        "* Heatmaps\n",
        "* Any other appropriate visualization"
      ],
      "metadata": {
        "id": "Cxqgn-BPyPo2"
      }
    },
    {
      "cell_type": "code",
      "source": [
        "# prompt: plot a line plot , x axis is quarterly time in years and y axis is guns_total. any changes sgould be made to a copy of df. the data should be grouped by quarter.\n",
        "# gun_df_copy['day'] = 1\n",
        "# gun_df_copy['datetime'] = pd.to_datetime(gun_df_copy[['year', 'month', 'day']])\n",
        "# # Extract the quarter and year\n",
        "# gun_df_copy['year_quarter'] = gun_df_copy['datetime'].dt.to_period('Q')\n",
        "# When does it peak per year. Make sure your visualizations are clear and informative by:\n",
        "# Adding appropriate titles\n",
        "# Labeling axes\n",
        "# Using colors effectively\n",
        "# Adding legends when necessary\n",
        "\n",
        "# Make a copy to avoid modifying the original DataFrame\n",
        "gun_df_copy = gun_df.copy()\n",
        "gun_df_copy['day'] = 1\n",
        "gun_df_copy['datetime'] = pd.to_datetime(gun_df_copy[['year', 'month', 'day']])\n",
        "# Extract the quarter and year\n",
        "gun_df_copy['year_quarter'] = gun_df_copy['datetime'].dt.to_period('Q')\n",
        "gun_df_copy['year'] = gun_df_copy['datetime'].dt.year\n",
        "gun_df_copy['quarter'] = gun_df_copy['datetime'].dt.quarter\n",
        "\n",
        "# Group by year and quarter and sum the total gun sales\n",
        "quarterly_sales = gun_df_copy.groupby('year_quarter')['guns_total'].sum().reset_index()\n",
        "\n",
        "# Convert the 'year_quarter' period to string for plotting\n",
        "quarterly_sales['year_quarter_str'] = quarterly_sales['year_quarter'].astype(str)\n",
        "\n",
        "# Plotting the line plot for quarterly gun sales\n",
        "plt.figure(figsize=(15, 7))\n",
        "sns.lineplot(data=quarterly_sales, x='year_quarter_str', y='guns_total')\n",
        "plt.title('Total Gun Sales by Quarter (1998-2016)')\n",
        "plt.xlabel('Year-Quarter')\n",
        "plt.ylabel('Total Gun Sales')\n",
        "plt.xticks(rotation=90) # Rotate x-axis labels for better readability\n",
        "plt.grid(True)\n",
        "plt.tight_layout() # Adjust layout to prevent labels overlapping\n",
        "plt.show()\n",
        "\n",
        "# Identify the peak quarter for each year\n",
        "# Group by year and find the quarter with the maximum sales\n",
        "peak_quarter_per_year = gun_df_copy.groupby(['year', 'quarter'])['guns_total'].sum().reset_index()\n",
        "peak_quarter_per_year = peak_quarter_per_year.loc[peak_quarter_per_year.groupby('year')['guns_total'].idxmax()]\n",
        "\n",
        "print(\"\\nPeak Quarter for Gun Sales per Year:\")\n",
        "print(peak_quarter_per_year) #checking values for correctness\n",
        "\n",
        "# Visualize peak quarter per year (Optional - adding another visualization)\n",
        "plt.figure(figsize=(12, 6))\n",
        "sns.scatterplot(data=peak_quarter_per_year, x='year', y='quarter', size='guns_total', sizes=(100, 1000), alpha=0.7)\n",
        "plt.title('Peak Sales Quarter by Year')\n",
        "plt.xlabel('Year')\n",
        "plt.ylabel('Peak Quarter (1-4)')\n",
        "plt.yticks([1, 2, 3, 4],  ['Q1', 'Q2', 'Q3', 'Q4'])\n",
        "plt.grid(True)\n",
        "plt.show()\n",
        "\n",
        "# Plot total sales grouped by quarter across all years to see the overall seasonal trend\n",
        "quarterly_sales_overall = gun_df_copy.groupby('quarter')['guns_total'].sum().reset_index()\n",
        "\n",
        "plt.figure(figsize=(8, 5)) #creating plot and designing for visibility\n",
        "sns.barplot(data=quarterly_sales_overall, x='quarter', y='guns_total', palette='viridis')\n",
        "plt.title('Total Gun Sales by Quarter (Overall 1998-2016)')\n",
        "plt.xlabel('Quarter')\n",
        "plt.ylabel('Total Gun Sales')\n",
        "plt.xticks([0, 1, 2, 3], ['Q1', 'Q2', 'Q3', 'Q4'])\n",
        "plt.show()"
      ],
      "metadata": {
        "colab": {
          "base_uri": "https://localhost:8080/",
          "height": 1000
        },
        "id": "H0HX2vVcAcMZ",
        "outputId": "edb5f056-3de0-47c3-aa49-42c4326692a5"
      },
      "execution_count": 9,
      "outputs": [
        {
          "output_type": "display_data",
          "data": {
            "text/plain": [
              "<Figure size 1500x700 with 1 Axes>"
            ],
            "image/png": "[encoded data removed]"
          },
          "metadata": {}
        },
        {
          "output_type": "stream",
          "name": "stdout",
          "text": [
            "\n",
            "Peak Quarter for Gun Sales per Year:\n",
            "    year  quarter  guns_total\n",
            "3   2000        4     2638020\n",
            "7   2001        4     2789705\n",
            "11  2002        4     2406629\n",
            "15  2003        4     2410528\n",
            "19  2004        4     2536434\n",
            "23  2005        4     2704857\n",
            "27  2006        4     2709968\n",
            "31  2007        4     2648132\n",
            "35  2008        4     3450212\n",
            "36  2009        1     2868994\n",
            "43  2010        4     3046269\n",
            "47  2011        4     3606406\n",
            "51  2012        4     5119876\n",
            "52  2013        1     5152501\n",
            "59  2014        4     4266686\n",
            "60  2015        1     3582420\n"
          ]
        },
        {
          "output_type": "display_data",
          "data": {
            "text/plain": [
              "<Figure size 1200x600 with 1 Axes>"
            ],
            "image/png": "[encoded data removed]"
          },
          "metadata": {}
        },
        {
          "output_type": "stream",
          "name": "stderr",
          "text": [
            "<ipython-input-9-bc947e48fca4>:60: FutureWarning: \n",
            "\n",
            "Passing `palette` without assigning `hue` is deprecated and will be removed in v0.14.0. Assign the `x` variable to `hue` and set `legend=False` for the same effect.\n",
            "\n",
            "  sns.barplot(data=quarterly_sales_overall, x='quarter', y='guns_total', palette='viridis')\n"
          ]
        },
        {
          "output_type": "display_data",
          "data": {
            "text/plain": [
              "<Figure size 800x500 with 1 Axes>"
            ],
            "image/png": "[encoded data removed]"
          },
          "metadata": {}
        }
      ]
    },
    {
      "cell_type": "markdown",
      "source": [
        "3. Customize Your Plots: Make sure your visualizations are clear and informative by:\n",
        "\n",
        "* Adding appropriate titles\n",
        "* Labeling axes\n",
        "* Using colors effectively\n",
        "* Adding legends when necessary"
      ],
      "metadata": {
        "id": "w5sbnVPdyksd"
      }
    },
    {
      "cell_type": "markdown",
      "source": [
        "Please create code cells below this to create your visualizations."
      ],
      "metadata": {
        "id": "2qIRJi1az118"
      }
    },
    {
      "cell_type": "markdown",
      "source": [
        "4. Analysis: Write 1-2 paragraphs discussing:\n",
        "\n",
        "* Whether your research question can be answered with the available data\n",
        "* What insights you discovered through your visualizations\n",
        "* Any unexpected or interesting findings\n",
        "* Limitations of your analysis\n",
        "* Suggestions for further investigation\n",
        "\n",
        "Please create a text cell below this cell to write your analysis."
      ],
      "metadata": {
        "id": "OdQzYjldys6g"
      }
    },
    {
      "cell_type": "markdown",
      "source": [
        "My research question was able to be answered with the available data as it included monthly data over the span of 1998- 2016. The months just needed to be divided into quarters (seasons). The visualizations showed me that Q4 - last 4 years of the month so around winter - is the peak of gun purchases. This is most pronounced in the first chart, but the second one shows that there are some major exceptions during Q1, which is also around winter. I believe this could be because of the gift-giving season or preparing for spring hunting season. The last chart shows that the difference in the quarterly sales isn't majorly different however. It's about .75e6 difference. This finding makes sense to me - there's a high chance people are gifting guns in the United States for the winter months or this is the time to buy new guns before the hunting season of the spring. One surprising thing is that gun sales peaked in 2013, and I wonder why. I think this has to do with the rise of school shootings. My analysis is limited by time range - it would be interesting to see how this changed as gun laws became more lax with changes in administration. It's also limited by a few states that have specific data so it would be helpful to have all the states in order to see how they differ, by party or population or race for example. These are all possible ideas for future investigation as well as comparing the shares of handguns and longguns between states."
      ],
      "metadata": {
        "id": "VetlPIFsJDTZ"
      }
    },
    {
      "cell_type": "markdown",
      "source": [
        "## Submission Requirements\n",
        "\n"
      ],
      "metadata": {
        "id": "A2mS9oPNy2_Y"
      }
    },
    {
      "cell_type": "markdown",
      "source": [
        "## NOTE: If you use a local dataset, you MUST submit the dataset along with your notebook to get credit."
      ],
      "metadata": {
        "id": "yIByyb4vy_Aw"
      }
    },
    {
      "cell_type": "markdown",
      "source": [
        "* Download your notebook as CS110_Project7.ipynb\n",
        "* Ensure all TODO tasks are completed\n",
        "* Make sure your code runs without errors\n",
        "* Include clear comments explaining your work\n",
        "* Submit the notebook file"
      ],
      "metadata": {
        "id": "XwJbmaQay6ca"
      }
    },
    {
      "cell_type": "markdown",
      "source": [
        "## Grading Criteria (4 points)"
      ],
      "metadata": {
        "id": "_GoDoJBWzQjK"
      }
    },
    {
      "cell_type": "markdown",
      "source": [
        "* Dataset Selection: Appropriate choice of dataset with sufficient complexity\n",
        "* Inquiry Question: Clear, specific, and answerable with the chosen data\n",
        "* Data Exploration: Proper use of pandas functions for initial analysis\n",
        "* Visualizations: At least 2 clear, well-formatted, and relevant plots\n",
        "* Analysis: Thoughtful interpretation of findings and answer to research question\n",
        "* Code Quality: Clean, commented, and well-organized code\n",
        "\n",
        "Remember: The goal is not just to create visualizations, but to use them to gain meaningful insights about your data. Think like a data scientist and let your curiosity guide your exploration!"
      ],
      "metadata": {
        "id": "MeHGEh8HzTua"
      }
    }
  ]
}